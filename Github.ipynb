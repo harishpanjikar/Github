{
 "cells": [
  {
   "cell_type": "markdown",
   "id": "c48036eb",
   "metadata": {},
   "source": [
    "#### What is Github?\n",
    "GitHub is a website and cloud-based service that helps developers store and manage their code, as well as track and control changes to their code.\n"
   ]
  },
  {
   "cell_type": "markdown",
   "id": "b239f02a",
   "metadata": {},
   "source": [
    "#### setup"
   ]
  },
  {
   "cell_type": "markdown",
   "id": "594ef8d3",
   "metadata": {},
   "source": [
    "setting up an username to review user version history"
   ]
  },
  {
   "cell_type": "markdown",
   "id": "68071105",
   "metadata": {},
   "source": [
    "git config --global user.name “[username you wish to give to your account]”"
   ]
  },
  {
   "cell_type": "markdown",
   "id": "e7184e0a",
   "metadata": {},
   "source": [
    "entering a valid email address associated with your account"
   ]
  },
  {
   "cell_type": "markdown",
   "id": "03c2294d",
   "metadata": {},
   "source": [
    "git config --global user.email “[valid-email]”"
   ]
  },
  {
   "cell_type": "markdown",
   "id": "9f0cda6f",
   "metadata": {},
   "source": [
    "Below are some of the commands you need to understand in order to input, edit and manipulate data via terminal.  "
   ]
  },
  {
   "cell_type": "code",
   "execution_count": 1,
   "id": "bed58369",
   "metadata": {},
   "outputs": [
    {
     "name": "stdout",
     "output_type": "stream",
     "text": [
      "\u001b[34mApplications\u001b[m\u001b[m/          \u001b[34mLibrary\u001b[m\u001b[m/               Untitled.ipynb\r\n",
      "\u001b[34mDesktop\u001b[m\u001b[m/               \u001b[34mMovies\u001b[m\u001b[m/                \u001b[34mopt\u001b[m\u001b[m/\r\n",
      "\u001b[34mDocuments\u001b[m\u001b[m/             \u001b[34mMusic\u001b[m\u001b[m/                 \u001b[34mproject\u001b[m\u001b[m/\r\n",
      "\u001b[34mDownloads\u001b[m\u001b[m/             \u001b[34mPictures\u001b[m\u001b[m/              \u001b[34mtest\u001b[m\u001b[m/\r\n",
      "Github Tutorial.ipynb  \u001b[34mPublic\u001b[m\u001b[m/\r\n"
     ]
    }
   ],
   "source": [
    "ls"
   ]
  },
  {
   "cell_type": "markdown",
   "id": "82aadb89",
   "metadata": {},
   "source": [
    "As you can see, the above commands can be used to understand the storage and folders that are saved in your system."
   ]
  },
  {
   "cell_type": "markdown",
   "id": "c8a5a4bd",
   "metadata": {},
   "source": [
    "mkdir \"filename\""
   ]
  },
  {
   "cell_type": "markdown",
   "id": "0ea0bc55",
   "metadata": {},
   "source": [
    "The above command can be used to create a folder or directory"
   ]
  },
  {
   "cell_type": "markdown",
   "id": "9e3911a0",
   "metadata": {},
   "source": [
    "cd \"filename\" "
   ]
  },
  {
   "cell_type": "markdown",
   "id": "3ab3ad92",
   "metadata": {},
   "source": [
    "to enter the directory or folder "
   ]
  },
  {
   "cell_type": "markdown",
   "id": "eb1f7843",
   "metadata": {},
   "source": [
    "touch \"filename\""
   ]
  },
  {
   "cell_type": "markdown",
   "id": "683614ad",
   "metadata": {},
   "source": [
    "to create a file "
   ]
  },
  {
   "cell_type": "markdown",
   "id": "67316991",
   "metadata": {},
   "source": [
    "git status "
   ]
  },
  {
   "cell_type": "markdown",
   "id": "76d8b5b0",
   "metadata": {},
   "source": [
    "to check and track the status of the changes happened in the system "
   ]
  },
  {
   "cell_type": "markdown",
   "id": "8cc1aeee",
   "metadata": {},
   "source": [
    "git add \"filename\""
   ]
  },
  {
   "cell_type": "markdown",
   "id": "f615206d",
   "metadata": {},
   "source": [
    "to add the untracked file to the stage the content "
   ]
  },
  {
   "cell_type": "markdown",
   "id": "7606a30f",
   "metadata": {},
   "source": [
    "git reset \"filename\""
   ]
  },
  {
   "cell_type": "markdown",
   "id": "46a4d1ca",
   "metadata": {},
   "source": [
    "to unstage the file to move it to untracked stage "
   ]
  },
  {
   "cell_type": "markdown",
   "id": "7deef4e7",
   "metadata": {},
   "source": [
    "git commit -m \"message\""
   ]
  },
  {
   "cell_type": "markdown",
   "id": "fa795f5f",
   "metadata": {},
   "source": [
    "to stage the final changes of the file with a message. -m stands for message in the above code."
   ]
  },
  {
   "cell_type": "markdown",
   "id": "f327cfe3",
   "metadata": {},
   "source": [
    "vi \"filename\""
   ]
  },
  {
   "cell_type": "markdown",
   "id": "900db9d1",
   "metadata": {},
   "source": [
    "to edit the committed file or make changes in the file"
   ]
  },
  {
   "cell_type": "markdown",
   "id": "a01b0624",
   "metadata": {},
   "source": [
    "cat \"filename\""
   ]
  },
  {
   "cell_type": "markdown",
   "id": "33ad6c06",
   "metadata": {},
   "source": [
    "displays the content present in the file"
   ]
  },
  {
   "cell_type": "markdown",
   "id": "1fe25160",
   "metadata": {},
   "source": [
    "git log "
   ]
  },
  {
   "cell_type": "markdown",
   "id": "0dd5b302",
   "metadata": {},
   "source": [
    "displays the history with of the changes made in the repository "
   ]
  },
  {
   "cell_type": "markdown",
   "id": "034956df",
   "metadata": {},
   "source": [
    "rm -rf \"filename\""
   ]
  },
  {
   "cell_type": "markdown",
   "id": "54e75a80",
   "metadata": {},
   "source": [
    "to delete the file "
   ]
  },
  {
   "cell_type": "markdown",
   "id": "48f2cdb2",
   "metadata": {},
   "source": [
    "**please make sure you commit the changes you make to the files if you reset or restore the file as it will be left untracked if failed to commit"
   ]
  },
  {
   "cell_type": "markdown",
   "id": "c3de28f9",
   "metadata": {},
   "source": [
    "git reset"
   ]
  },
  {
   "cell_type": "markdown",
   "id": "bf1cce91",
   "metadata": {},
   "source": [
    "reset is about updating your branch, moving the tip in order to add or remove commits from the branch. This operation changes the commit history."
   ]
  },
  {
   "cell_type": "markdown",
   "id": "8f44479b",
   "metadata": {},
   "source": [
    "git restore"
   ]
  },
  {
   "cell_type": "markdown",
   "id": "be62c148",
   "metadata": {},
   "source": [
    "restore is about restoring files in the working tree from either the index or another commit. This command does not update your branch"
   ]
  },
  {
   "cell_type": "markdown",
   "id": "0f8c1469",
   "metadata": {},
   "source": [
    "git stash"
   ]
  },
  {
   "cell_type": "markdown",
   "id": "dac7691e",
   "metadata": {},
   "source": [
    "to keep the files in the background without committing. With this command, nothing is shown on the status."
   ]
  },
  {
   "cell_type": "markdown",
   "id": "2129dbe4",
   "metadata": {},
   "source": [
    "git stash pop"
   ]
  },
  {
   "cell_type": "markdown",
   "id": "75465e30",
   "metadata": {},
   "source": [
    "to get all the files or changes that were in the background to be staged. This changes can be seen on the status. "
   ]
  },
  {
   "cell_type": "markdown",
   "id": "eef207a5",
   "metadata": {},
   "source": [
    "git stash clear "
   ]
  },
  {
   "cell_type": "markdown",
   "id": "22b1f9f1",
   "metadata": {},
   "source": [
    "to clear everything from the background permanently. "
   ]
  },
  {
   "cell_type": "markdown",
   "id": "54c1c977",
   "metadata": {},
   "source": [
    "git init \n",
    "git clone [URL]"
   ]
  },
  {
   "cell_type": "markdown",
   "id": "eb6df5d4",
   "metadata": {},
   "source": [
    "to initialise and retrieve the existing repository. "
   ]
  },
  {
   "cell_type": "markdown",
   "id": "69530751",
   "metadata": {},
   "source": [
    "git branch"
   ]
  },
  {
   "cell_type": "markdown",
   "id": "c31bffdc",
   "metadata": {},
   "source": [
    "lists all the existing branches in the repository"
   ]
  },
  {
   "cell_type": "markdown",
   "id": "2d194bd7",
   "metadata": {},
   "source": [
    "git branch \"branch_name\""
   ]
  },
  {
   "cell_type": "markdown",
   "id": "2ba10c55",
   "metadata": {},
   "source": [
    "to create and add new branch to the repo"
   ]
  },
  {
   "cell_type": "markdown",
   "id": "0b05265c",
   "metadata": {},
   "source": [
    "git checkout"
   ]
  },
  {
   "cell_type": "markdown",
   "id": "bf456707",
   "metadata": {},
   "source": [
    "switch to particular branch and work in that existing branch "
   ]
  },
  {
   "cell_type": "markdown",
   "id": "ab92f541",
   "metadata": {},
   "source": [
    "git merge [branch_name]"
   ]
  },
  {
   "cell_type": "markdown",
   "id": "85ba58e2",
   "metadata": {},
   "source": [
    "merge the specified history of the branch in the main branch"
   ]
  },
  {
   "cell_type": "markdown",
   "id": "2a2af69b",
   "metadata": {},
   "source": [
    "git remote add [alias][url]"
   ]
  },
  {
   "cell_type": "markdown",
   "id": "5c31cb54",
   "metadata": {},
   "source": [
    "to add a git URL as an alias "
   ]
  },
  {
   "cell_type": "markdown",
   "id": "e281128b",
   "metadata": {},
   "source": [
    "git fetch [alias]"
   ]
  },
  {
   "cell_type": "markdown",
   "id": "73f7793b",
   "metadata": {},
   "source": [
    "to fetch all the branches from the repo"
   ]
  },
  {
   "cell_type": "markdown",
   "id": "42b04f8e",
   "metadata": {},
   "source": [
    "git push [alias][branch]"
   ]
  },
  {
   "cell_type": "markdown",
   "id": "df05b97d",
   "metadata": {},
   "source": [
    "to push the local branch commits to remote repository"
   ]
  },
  {
   "cell_type": "markdown",
   "id": "ac8b1c92",
   "metadata": {},
   "source": [
    "git pull"
   ]
  },
  {
   "cell_type": "markdown",
   "id": "105ac592",
   "metadata": {},
   "source": [
    "fetch and merge any commits from the tracking remote branch"
   ]
  },
  {
   "cell_type": "markdown",
   "id": "aab2cbf7",
   "metadata": {},
   "source": []
  }
 ],
 "metadata": {
  "kernelspec": {
   "display_name": "Python 3 (ipykernel)",
   "language": "python",
   "name": "python3"
  },
  "language_info": {
   "codemirror_mode": {
    "name": "ipython",
    "version": 3
   },
   "file_extension": ".py",
   "mimetype": "text/x-python",
   "name": "python",
   "nbconvert_exporter": "python",
   "pygments_lexer": "ipython3",
   "version": "3.9.13"
  }
 },
 "nbformat": 4,
 "nbformat_minor": 5
}
